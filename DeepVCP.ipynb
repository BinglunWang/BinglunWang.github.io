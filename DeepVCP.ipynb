{
  "nbformat": 4,
  "nbformat_minor": 0,
  "metadata": {
    "colab": {
      "provenance": [],
      "authorship_tag": "ABX9TyNec5CBDnK/tIEeHm+Cx7uA",
      "include_colab_link": true
    },
    "kernelspec": {
      "name": "python3",
      "display_name": "Python 3"
    },
    "language_info": {
      "name": "python"
    },
    "gpuClass": "standard",
    "accelerator": "GPU"
  },
  "cells": [
    {
      "cell_type": "markdown",
      "metadata": {
        "id": "view-in-github",
        "colab_type": "text"
      },
      "source": [
        "<a href=\"https://colab.research.google.com/github/BinglunWang/BinglunWang.github.io/blob/main/DeepVCP.ipynb\" target=\"_parent\"><img src=\"https://colab.research.google.com/assets/colab-badge.svg\" alt=\"Open In Colab\"/></a>"
      ]
    },
    {
      "cell_type": "markdown",
      "source": [
        "## Model"
      ],
      "metadata": {
        "id": "481g8H2KGKi7"
      }
    },
    {
      "cell_type": "code",
      "source": [
        "import importlib\n",
        "import torch\n",
        "import os"
      ],
      "metadata": {
        "id": "3h_K709CYlP6"
      },
      "execution_count": 1,
      "outputs": []
    },
    {
      "cell_type": "code",
      "source": [
        "!git clone https://github.com/yanx27/Pointnet_Pointnet2_pytorch"
      ],
      "metadata": {
        "colab": {
          "base_uri": "https://localhost:8080/"
        },
        "id": "mWSEdx-ILzua",
        "outputId": "3d768440-ac62-4b4a-c409-a015a808126d"
      },
      "execution_count": 2,
      "outputs": [
        {
          "output_type": "stream",
          "name": "stdout",
          "text": [
            "Cloning into 'Pointnet_Pointnet2_pytorch'...\n",
            "remote: Enumerating objects: 842, done.\u001b[K\n",
            "remote: Counting objects: 100% (16/16), done.\u001b[K\n",
            "remote: Compressing objects: 100% (11/11), done.\u001b[K\n",
            "remote: Total 842 (delta 7), reused 11 (delta 5), pack-reused 826\u001b[K\n",
            "Receiving objects: 100% (842/842), 68.77 MiB | 22.33 MiB/s, done.\n",
            "Resolving deltas: 100% (485/485), done.\n"
          ]
        }
      ]
    },
    {
      "cell_type": "code",
      "source": [
        "!ls"
      ],
      "metadata": {
        "colab": {
          "base_uri": "https://localhost:8080/"
        },
        "id": "u9ND5YMQPClP",
        "outputId": "4933061e-cfe3-4eee-e588-e7eda5f75f9c"
      },
      "execution_count": 3,
      "outputs": [
        {
          "output_type": "stream",
          "name": "stdout",
          "text": [
            "Pointnet_Pointnet2_pytorch  sample_data\n"
          ]
        }
      ]
    },
    {
      "cell_type": "code",
      "source": [
        "%cd /content/Pointnet_Pointnet2_pytorch"
      ],
      "metadata": {
        "colab": {
          "base_uri": "https://localhost:8080/"
        },
        "id": "7AhX1KIMU_Fp",
        "outputId": "4ecb0416-a332-4770-e146-e54307bf9dd3"
      },
      "execution_count": 4,
      "outputs": [
        {
          "output_type": "stream",
          "name": "stdout",
          "text": [
            "/content/Pointnet_Pointnet2_pytorch\n"
          ]
        }
      ]
    },
    {
      "cell_type": "code",
      "source": [
        "num_class = 40\n",
        "use_normals = False\n",
        "experiment_dir = 'log/classification/pointnet2_ssg_wo_normals'\n",
        "model_name = os.listdir(experiment_dir + '/logs')[0].split('.')[0]\n",
        "print(model_name)"
      ],
      "metadata": {
        "colab": {
          "base_uri": "https://localhost:8080/"
        },
        "id": "aeVh763WVEKw",
        "outputId": "6a4c49d5-bf31-4d98-976b-aaedafac949d"
      },
      "execution_count": 5,
      "outputs": [
        {
          "output_type": "stream",
          "name": "stdout",
          "text": [
            "pointnet2_cls_ssg\n"
          ]
        }
      ]
    },
    {
      "cell_type": "code",
      "source": [
        "%cd /content/Pointnet_Pointnet2_pytorch/log/classification/pointnet2_ssg_wo_normals\n",
        "import pointnet2_cls_ssg"
      ],
      "metadata": {
        "colab": {
          "base_uri": "https://localhost:8080/"
        },
        "id": "o4f2dPhKZxd7",
        "outputId": "28ac081c-6c4f-423e-8869-ee565a138f9e"
      },
      "execution_count": 6,
      "outputs": [
        {
          "output_type": "stream",
          "name": "stdout",
          "text": [
            "/content/Pointnet_Pointnet2_pytorch/log/classification/pointnet2_ssg_wo_normals\n"
          ]
        }
      ]
    },
    {
      "cell_type": "code",
      "source": [
        "%cd /content/Pointnet_Pointnet2_pytorch"
      ],
      "metadata": {
        "colab": {
          "base_uri": "https://localhost:8080/"
        },
        "id": "SdYxvG9uaRL4",
        "outputId": "560a6a02-b237-4179-fcaf-3018e28e8f7a"
      },
      "execution_count": 7,
      "outputs": [
        {
          "output_type": "stream",
          "name": "stdout",
          "text": [
            "/content/Pointnet_Pointnet2_pytorch\n"
          ]
        }
      ]
    },
    {
      "cell_type": "code",
      "source": [
        "model = pointnet2_cls_ssg\n",
        "classifier = model.get_model(num_class, normal_channel = use_normals)\n",
        "classifier = classifier.cuda()\n",
        "checkpoint = torch.load(str(experiment_dir) + '/checkpoints/best_model.pth')\n",
        "classifier.load_state_dict(checkpoint['model_state_dict'])"
      ],
      "metadata": {
        "colab": {
          "base_uri": "https://localhost:8080/"
        },
        "id": "mDVQFAPUXLOg",
        "outputId": "0c7e751d-2010-4859-f371-e2b64e8dc27e"
      },
      "execution_count": 9,
      "outputs": [
        {
          "output_type": "execute_result",
          "data": {
            "text/plain": [
              "<All keys matched successfully>"
            ]
          },
          "metadata": {},
          "execution_count": 9
        }
      ]
    },
    {
      "cell_type": "code",
      "source": [
        "print(classifier)"
      ],
      "metadata": {
        "colab": {
          "base_uri": "https://localhost:8080/"
        },
        "id": "mytRD0NXaXre",
        "outputId": "76755686-e544-4abe-e699-527510d92371"
      },
      "execution_count": 11,
      "outputs": [
        {
          "output_type": "stream",
          "name": "stdout",
          "text": [
            "get_model(\n",
            "  (sa1): PointNetSetAbstraction(\n",
            "    (mlp_convs): ModuleList(\n",
            "      (0): Conv2d(3, 64, kernel_size=(1, 1), stride=(1, 1))\n",
            "      (1): Conv2d(64, 64, kernel_size=(1, 1), stride=(1, 1))\n",
            "      (2): Conv2d(64, 128, kernel_size=(1, 1), stride=(1, 1))\n",
            "    )\n",
            "    (mlp_bns): ModuleList(\n",
            "      (0-1): 2 x BatchNorm2d(64, eps=1e-05, momentum=0.1, affine=True, track_running_stats=True)\n",
            "      (2): BatchNorm2d(128, eps=1e-05, momentum=0.1, affine=True, track_running_stats=True)\n",
            "    )\n",
            "  )\n",
            "  (sa2): PointNetSetAbstraction(\n",
            "    (mlp_convs): ModuleList(\n",
            "      (0): Conv2d(131, 128, kernel_size=(1, 1), stride=(1, 1))\n",
            "      (1): Conv2d(128, 128, kernel_size=(1, 1), stride=(1, 1))\n",
            "      (2): Conv2d(128, 256, kernel_size=(1, 1), stride=(1, 1))\n",
            "    )\n",
            "    (mlp_bns): ModuleList(\n",
            "      (0-1): 2 x BatchNorm2d(128, eps=1e-05, momentum=0.1, affine=True, track_running_stats=True)\n",
            "      (2): BatchNorm2d(256, eps=1e-05, momentum=0.1, affine=True, track_running_stats=True)\n",
            "    )\n",
            "  )\n",
            "  (sa3): PointNetSetAbstraction(\n",
            "    (mlp_convs): ModuleList(\n",
            "      (0): Conv2d(259, 256, kernel_size=(1, 1), stride=(1, 1))\n",
            "      (1): Conv2d(256, 512, kernel_size=(1, 1), stride=(1, 1))\n",
            "      (2): Conv2d(512, 1024, kernel_size=(1, 1), stride=(1, 1))\n",
            "    )\n",
            "    (mlp_bns): ModuleList(\n",
            "      (0): BatchNorm2d(256, eps=1e-05, momentum=0.1, affine=True, track_running_stats=True)\n",
            "      (1): BatchNorm2d(512, eps=1e-05, momentum=0.1, affine=True, track_running_stats=True)\n",
            "      (2): BatchNorm2d(1024, eps=1e-05, momentum=0.1, affine=True, track_running_stats=True)\n",
            "    )\n",
            "  )\n",
            "  (fc1): Linear(in_features=1024, out_features=512, bias=True)\n",
            "  (bn1): BatchNorm1d(512, eps=1e-05, momentum=0.1, affine=True, track_running_stats=True)\n",
            "  (drop1): Dropout(p=0.4, inplace=False)\n",
            "  (fc2): Linear(in_features=512, out_features=256, bias=True)\n",
            "  (bn2): BatchNorm1d(256, eps=1e-05, momentum=0.1, affine=True, track_running_stats=True)\n",
            "  (drop2): Dropout(p=0.4, inplace=False)\n",
            "  (fc3): Linear(in_features=256, out_features=40, bias=True)\n",
            ")\n"
          ]
        }
      ]
    },
    {
      "cell_type": "code",
      "source": [],
      "metadata": {
        "id": "Qgl3DgWhass-"
      },
      "execution_count": null,
      "outputs": []
    }
  ]
}